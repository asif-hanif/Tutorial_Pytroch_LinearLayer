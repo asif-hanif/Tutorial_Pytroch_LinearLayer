{
 "cells": [
  {
   "cell_type": "markdown",
   "metadata": {},
   "source": [
    "<div class=\"alert alert-block alert-warning\">\n",
    "<h1><span style=\"color:green\"> Understanding Linear Layer (nn.Linear) in Pytroch </span><h1>\n",
    "</div>\n",
    "\n",
    "---\n",
    "---"
   ]
  },
  {
   "attachments": {
    "lin_trans_visaual.jpg": {
     "image/jpeg": "[encoded data removed]"
    }
   },
   "cell_type": "markdown",
   "metadata": {
    "colab_type": "text",
    "id": "AhLr4lNpYPH3"
   },
   "source": [
    "## Linear Layer\n",
    "\n",
    "<font size=\"4\">Linear layer is nothing but a linear transformation. Assume an input row vector $\\mathrm{x} \\in \\mathbb{R}^{1\\times m}$, a randomly initialized matrix $W \\in \\mathbb{R}^{n \\times m}$ and a bias vector $\\mathrm{b} \\in \\mathbb{R}^{1\\times n}$, then output vector $\\mathrm{y} \\in \\mathbb{R}^{1\\times n}$ is obtained as follows;</font>\n",
    "\n",
    "<font size=\"15\">$$\\mathrm{y} = \\mathrm{x} W^{\\top} + \\mathrm{b}$$ </font>\n",
    "\n",
    "\n",
    "![lin_trans_visaual.jpg](attachment:lin_trans_visaual.jpg)\n",
    " \n",
    "\n",
    "\n",
    "<font size=\"3\">**Note**: Pytorch code assumes input vector to be a row-vector.</font>"
   ]
  },
  {
   "cell_type": "code",
   "execution_count": 1,
   "metadata": {
    "colab": {},
    "colab_type": "code",
    "id": "1AcpBsi6AxzK"
   },
   "outputs": [],
   "source": [
    "import torch\n",
    "import torch.nn as nn"
   ]
  },
  {
   "cell_type": "markdown",
   "metadata": {},
   "source": [
    "<div class=\"alert alert-block alert-warning\">\n",
    "<h1><span style=\"color:green\"> Instantiate One Fully-Connected Layer using nn.Linear  </span></h1>\n",
    "</div>\n",
    "\n",
    "<font size=\"4\">Assuming input row vector is $\\mathrm{x} \\in \\mathbb{R}^{1\\times 5}$ and we want an output vector $\\mathrm{y} \\in \\mathbb{R}^{1\\times 10}$, following is the code to create a linear layer for such a transformation.</font>"
   ]
  },
  {
   "cell_type": "code",
   "execution_count": 3,
   "metadata": {},
   "outputs": [],
   "source": [
    "\n",
    "fc_layer = nn.Linear(in_features=5, out_features=10)\n",
    "\n",
    "# Here we have created an object using nn.Linear class and named it as 'fc_layer'.\n",
    "# Choice of name is arbitrary and user can name it with any syntactically legitimate option. "
   ]
  },
  {
   "cell_type": "markdown",
   "metadata": {},
   "source": [
    "<div class=\"alert alert-block alert-warning\">\n",
    "<h3><span style=\"color:green\"> We can now check the shape and values of weight matrix $W$ and bias vector $\\mathrm{b}$ associated with this linear or fully-connected layer. </span></h3>\n",
    "</div>\n"
   ]
  },
  {
   "cell_type": "code",
   "execution_count": 4,
   "metadata": {},
   "outputs": [
    {
     "name": "stdout",
     "output_type": "stream",
     "text": [
      "Dimension of Weight Matrix:  torch.Size([10, 5])\n",
      "Dimension of Bias Vector  :  torch.Size([10])\n",
      "\n",
      "\n",
      "\n",
      "\n",
      "Weight Matrix (W) of Fully-Connected Layer:\n",
      "\n",
      " tensor([[-0.0786, -0.3187,  0.0387,  0.1568,  0.3270],\n",
      "        [-0.1259, -0.3375, -0.0661,  0.0027, -0.0467],\n",
      "        [-0.1169, -0.3655,  0.0147, -0.1011, -0.2387],\n",
      "        [-0.0015,  0.0143, -0.4409, -0.0516, -0.0673],\n",
      "        [-0.0113, -0.0793,  0.3626,  0.1100,  0.0828],\n",
      "        [-0.0538,  0.1696, -0.1801,  0.3227,  0.2231],\n",
      "        [ 0.3756,  0.1603,  0.4081,  0.4111, -0.2846],\n",
      "        [-0.0029,  0.3131, -0.3981, -0.2207,  0.3479],\n",
      "        [-0.0800,  0.0006, -0.3195, -0.3124, -0.2806],\n",
      "        [ 0.0288,  0.1416,  0.4082, -0.2675, -0.3988]])\n",
      "\n",
      "\n",
      "\n",
      "Bias Vecotr (b) of Fully-Connected Layer:\n",
      "\n",
      " tensor([ 0.2992,  0.4216,  0.1114,  0.2411,  0.1526, -0.2135,  0.3067,  0.2109,\n",
      "        -0.2312,  0.0720])\n"
     ]
    }
   ],
   "source": [
    "print('Dimension of Weight Matrix: ' , fc_layer.weight.shape)\n",
    "print('Dimension of Bias Vector  : ' , fc_layer.bias.shape)\n",
    "\n",
    "print('\\n\\n\\n')\n",
    "print('Weight Matrix (W) of Fully-Connected Layer:\\n\\n', fc_layer.weight.data )\n",
    "print('\\n\\n\\nBias Vecotr (b) of Fully-Connected Layer:\\n\\n', fc_layer.bias.data )\n"
   ]
  },
  {
   "cell_type": "markdown",
   "metadata": {},
   "source": [
    "<div class=\"alert alert-block alert-warning\">\n",
    "<h3><span style=\"color:green\"> Now, an inut vector, lets say $\\mathrm{x}=[1,2,3,4,5]$ , can be transformed into output vector using linear layer by simply passing $\\mathrm{x}$ to <i>$fc\\_layer$</i>. </span></h3>\n",
    "</div>\n"
   ]
  },
  {
   "cell_type": "code",
   "execution_count": 5,
   "metadata": {},
   "outputs": [],
   "source": [
    "x= torch.tensor([[1,2,3,4,5]], dtype=torch.float32)\n",
    "\n",
    "output = fc_layer(x)\n"
   ]
  },
  {
   "cell_type": "code",
   "execution_count": 6,
   "metadata": {},
   "outputs": [
    {
     "name": "stdout",
     "output_type": "stream",
     "text": [
      "Dimension of Input Vector   :  torch.Size([1, 5])\n",
      "Dimension of Output Vector  :  torch.Size([1, 10])\n",
      "\n",
      "\n",
      "Input Vector:\n",
      " tensor([[1., 2., 3., 4., 5.]])\n",
      "\n",
      "\n",
      "Output Vector:\n",
      " tensor([[ 1.9615, -0.8003, -2.2906, -1.5969,  1.9244,  1.9377,  2.4486,  0.4968,\n",
      "         -3.9212, -1.4551]], grad_fn=<AddmmBackward>)\n"
     ]
    }
   ],
   "source": [
    "print('Dimension of Input Vector   : ' , x.shape)\n",
    "print('Dimension of Output Vector  : ' , output.shape)\n",
    "\n",
    "print('\\n\\nInput Vector:\\n', x)\n",
    "print('\\n\\nOutput Vector:\\n', output)"
   ]
  },
  {
   "cell_type": "markdown",
   "metadata": {},
   "source": [
    "<div class=\"alert alert-block alert-warning\">\n",
    "<h3><span style=\"color:green\"> It is tempting to verify that internal computation/transformation perfomred by  <i>$fc\\_layer$</i> on  $\\mathrm{x}$ is in line with what we have in our mind. We can do so by accessing weight matrix and bias vector of <i>$fc\\_layer$</i> and then computing $\\mathrm{x}W^{\\top}+\\mathrm{b}$ externally.</span></h3>\n",
    "</div>\n"
   ]
  },
  {
   "cell_type": "code",
   "execution_count": 7,
   "metadata": {},
   "outputs": [],
   "source": [
    "W = fc_layer.weight.data    # weight matrix of fc_layer\n",
    "b = fc_layer.bias.data      # bias vector of fc_layer\n",
    "\n",
    "\n",
    "y = x @ W.T + b             # @ operator is being used for standard vector-matrix multiplication"
   ]
  },
  {
   "cell_type": "code",
   "execution_count": 8,
   "metadata": {},
   "outputs": [
    {
     "name": "stdout",
     "output_type": "stream",
     "text": [
      "\n",
      "\n",
      "Input Vector:\n",
      " tensor([[1., 2., 3., 4., 5.]])\n",
      "\n",
      "\n",
      "Output Vector:\n",
      " tensor([[ 1.9615, -0.8003, -2.2906, -1.5969,  1.9244,  1.9377,  2.4486,  0.4968,\n",
      "         -3.9212, -1.4551]])\n"
     ]
    }
   ],
   "source": [
    "print('\\n\\nInput Vector:\\n', x)\n",
    "print('\\n\\nOutput Vector:\\n', y)"
   ]
  },
  {
   "cell_type": "markdown",
   "metadata": {},
   "source": [
    "<div class=\"alert alert-block alert-warning\">\n",
    "<h3><span style=\"color:green\"> Output vector obtained through $\\mathrm{x}W^{\\top}+\\mathrm{b}$ is exactly same as the one obtained by passing  $\\mathrm{x}$ to Pytorch's <i>$fc\\_layer()$</i>.  </span></h3>\n",
    "</div>\n"
   ]
  },
  {
   "cell_type": "markdown",
   "metadata": {},
   "source": [
    "### Convert .IPYNB to .HTML "
   ]
  },
  {
   "cell_type": "code",
   "execution_count": null,
   "metadata": {},
   "outputs": [],
   "source": [
    "import os \n",
    "cwd = os.getcwd()\n",
    "os.chdir(cwd)\n",
    "\n",
    "!jupyter nbconvert PyTorch_LinearLayer.ipynb"
   ]
  },
  {
   "cell_type": "code",
   "execution_count": null,
   "metadata": {},
   "outputs": [],
   "source": []
  }
 ],
 "metadata": {
  "colab": {
   "collapsed_sections": [],
   "name": "LSTM_AssignmentSolution.ipynb",
   "provenance": []
  },
  "kernelspec": {
   "display_name": "Python 3",
   "language": "python",
   "name": "python3"
  },
  "language_info": {
   "codemirror_mode": {
    "name": "ipython",
    "version": 3
   },
   "file_extension": ".py",
   "mimetype": "text/x-python",
   "name": "python",
   "nbconvert_exporter": "python",
   "pygments_lexer": "ipython3",
   "version": "3.7.4"
  },
  "varInspector": {
   "cols": {
    "lenName": 16,
    "lenType": 16,
    "lenVar": 40
   },
   "kernels_config": {
    "python": {
     "delete_cmd_postfix": "",
     "delete_cmd_prefix": "del ",
     "library": "var_list.py",
     "varRefreshCmd": "print(var_dic_list())"
    },
    "r": {
     "delete_cmd_postfix": ") ",
     "delete_cmd_prefix": "rm(",
     "library": "var_list.r",
     "varRefreshCmd": "cat(var_dic_list()) "
    }
   },
   "types_to_exclude": [
    "module",
    "function",
    "builtin_function_or_method",
    "instance",
    "_Feature"
   ],
   "window_display": false
  }
 },
 "nbformat": 4,
 "nbformat_minor": 1
}
